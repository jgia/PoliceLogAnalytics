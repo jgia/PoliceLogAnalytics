{
 "cells": [
  {
   "cell_type": "code",
   "metadata": {
    "tags": [],
    "cell_id": "6b52c292-77d4-40c2-8e73-25d1d31cd582",
    "deepnote_to_be_reexecuted": false,
    "source_hash": "9b82ee11",
    "execution_start": 1658191354367,
    "execution_millis": 579159,
    "deepnote_cell_type": "code",
    "deepnote_cell_height": 81
   },
   "source": "import pandas as pd",
   "execution_count": 1,
   "outputs": []
  },
  {
   "cell_type": "code",
   "metadata": {
    "cell_id": "8c342efb804a43068bfa11d984ab46ab",
    "tags": [],
    "deepnote_to_be_reexecuted": false,
    "source_hash": "e7238aad",
    "execution_start": 1658191354367,
    "execution_millis": 62,
    "deepnote_table_state": {
     "pageSize": 100,
     "pageIndex": 0,
     "filters": [],
     "sortBy": []
    },
    "deepnote_table_loading": false,
    "deepnote_cell_type": "code",
    "deepnote_cell_height": 81
   },
   "source": "df = pd.read_csv('Master.csv')",
   "execution_count": 2,
   "outputs": []
  },
  {
   "cell_type": "code",
   "metadata": {
    "cell_id": "4599e7a156394958b75c7087e6e20e21",
    "tags": [],
    "deepnote_to_be_reexecuted": false,
    "source_hash": "2a9a798f",
    "execution_start": 1658191384572,
    "execution_millis": 13,
    "owner_user_id": "7e3d95cd-ebe0-4817-850f-c6750c12da60",
    "deepnote_cell_type": "code",
    "deepnote_cell_height": 701
   },
   "source": "#This notbook is just for testing",
   "execution_count": 4,
   "outputs": [
    {
     "name": "stdout",
     "text": "Patrol Initiated Area Check\nAlarm Commercial\nAssist Fire Department\nWires Down\nAlarm Resident\nTree Down\nAmbulance\nAlarm (Other)\nInformational\nDirected Patrol\n911 - Hangup or Abandonded\nSuspicious MV or Pers\nAnimal Call\nAssist Other Police Department\nFireworks\nDeath\nLarceny\nUnwanted Guest\nMV Stop\nB&E\nHarassment\nCivil Problem/Complaint\nMV Disabled\nCheck Well Being\nService Call\n258E Criminal Harassment Issue\nFire Building\nPower Failure\nPark and Walk\nAnnoying Calls\n258E Service or Attempt\nField Observation\nFollow-Up\nFraud\n209A Service or Attempt\nMV Crash No Injury\nDisturbance\nWater Problem\nNoise Complaint\nTraffic Complaint\nArrest - Warrant\nMV Erratic Operator\nHazard - Road\nNEMLEC Call Out\nMissing Juvenile\nCheck Building\nLockout House\nMV Hit and Run Crash\nServe Court Documents\nOdor Gas/Oil/Other\nTrespass Letter on File\nProperty - Any L/F/R\nFire Car\nMissing Person\nChild Passenger Safety Seat\nMV Crash - Injury\nTraffic Function / Service\nHazard\nProperty Damage\nTransport\nDrug Law Violation\nLarceny - Shoplifting\nThreatening\nOverdose - Medical\nVandalism\nMV Violation\nSection 12\nElder Affairs Incident\nFire Misc.\nArrest\nMV Crash - Cyclist\nB & E M.V.\nLockout MV\nField Interview\nNotification\nEscort/Funeral/Parad es etc.\nAssault & Battery\nWeapons Violation\nSelective Enforcement\nMV Towed\nOper Under Influence\nBy-Law Violation\nSchool Bus Incident\nSex Offender Registration\nSchool Related Incident\nTrespassing\n258E RO Violation\nIllegal Dumping\nForgery / Uttering\nMV Road Rage Incident\nOverdue MV/Person\nAlcohol Offense\nSuspicious Package\nSRO Function / Service\nMV Stop - Cyclist\nMV Crash - Pedestrian\nProtective Custody\nLarceny of MV\n",
     "output_type": "stream"
    }
   ]
  },
  {
   "cell_type": "markdown",
   "source": "<a style='text-decoration:none;line-height:16px;display:flex;color:#5B5B62;padding:10px;justify-content:end;' href='https://deepnote.com?utm_source=created-in-deepnote-cell&projectId=1df2ff28-79d2-4acd-859e-d93e0ee82f1c' target=\"_blank\">\n<img alt='Created in deepnote.com' style='display:inline;max-height:16px;margin:0px;margin-right:7.5px;' src='data:image/svg+xml;base64,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' > </img>\nCreated in <span style='font-weight:600;margin-left:4px;'>Deepnote</span></a>",
   "metadata": {
    "tags": [],
    "created_in_deepnote_cell": true,
    "deepnote_cell_type": "markdown"
   }
  }
 ],
 "nbformat": 4,
 "nbformat_minor": 2,
 "metadata": {
  "orig_nbformat": 2,
  "deepnote": {},
  "deepnote_notebook_id": "3822cc86-f40c-401c-80b6-3623b62b0b2e",
  "deepnote_execution_queue": []
 }
}